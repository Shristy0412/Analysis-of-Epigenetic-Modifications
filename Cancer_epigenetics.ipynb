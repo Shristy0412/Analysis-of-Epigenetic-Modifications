{
  "nbformat": 4,
  "nbformat_minor": 0,
  "metadata": {
    "colab": {
      "provenance": [],
      "authorship_tag": "ABX9TyPJ0C5oXh2YzWOgvV1EqP+6",
      "include_colab_link": true
    },
    "kernelspec": {
      "name": "python3",
      "display_name": "Python 3"
    },
    "language_info": {
      "name": "python"
    }
  },
  "cells": [
    {
      "cell_type": "markdown",
      "metadata": {
        "id": "view-in-github",
        "colab_type": "text"
      },
      "source": [
        "<a href=\"https://colab.research.google.com/github/Shristy0412/Analysis-of-Epigenetic-Modifications/blob/main/Cancer_epigenetics.ipynb\" target=\"_parent\"><img src=\"https://colab.research.google.com/assets/colab-badge.svg\" alt=\"Open In Colab\"/></a>"
      ]
    },
    {
      "cell_type": "code",
      "source": [
        "#Load required libraries\n",
        "import pandas as pd\n",
        "import numpy as np\n",
        "from sklearn.preprocessing import StandardScaler\n",
        "from sklearn.model_selection import train_test_split"
      ],
      "metadata": {
        "id": "2avp9RYNsd2R"
      },
      "execution_count": 1,
      "outputs": []
    },
    {
      "cell_type": "code",
      "source": [
        "data = pd.read_excel('/content/GBM_METHYLATION_SLC8A1.xlsx')"
      ],
      "metadata": {
        "id": "6NY5f5VuPuY-"
      },
      "execution_count": 2,
      "outputs": []
    },
    {
      "cell_type": "code",
      "source": [
        "print(data.head())"
      ],
      "metadata": {
        "colab": {
          "base_uri": "https://localhost:8080/"
        },
        "id": "jsjyK40jxetG",
        "outputId": "fe84d0ce-548e-442f-aac3-96301b05f502"
      },
      "execution_count": 3,
      "outputs": [
        {
          "output_type": "stream",
          "name": "stdout",
          "text": [
            "         RT         T       T.1       T.2       T.3       T.4      RT.1  \\\n",
            "0  0.929843  0.928156  0.921526  0.931479  0.889860  0.939439  0.948523   \n",
            "1  0.464770  0.559134  0.460484  0.522254  0.815574  0.100259  0.523194   \n",
            "2  0.922723  0.948616  0.943878  0.947867  0.899935  0.931495  0.941284   \n",
            "3  0.509907  0.662649  0.505616       NaN       NaN       NaN  0.829613   \n",
            "4  0.817826  0.832559  0.796367  0.882133  0.829623  0.918665  0.816905   \n",
            "\n",
            "        T.5       T.6       T.7  ...     T.130     T.131     T.132     T.133  \\\n",
            "0  0.937603  0.917144  0.922838  ...  0.782110  0.955063  0.945038  0.954831   \n",
            "1  0.760180  0.403001  0.606318  ...  0.286152  0.488535  0.603420  0.603572   \n",
            "2  0.924937  0.934264  0.912804  ...  0.928383  0.941274  0.910866  0.942283   \n",
            "3       NaN       NaN       NaN  ...  0.697143  0.480606  0.696004  0.689964   \n",
            "4  0.913478  0.881346  0.854353  ...  0.892566  0.873461  0.873157  0.812158   \n",
            "\n",
            "      T.134     T.135     T.136     T.137     T.138     T.139  \n",
            "0  0.901573  0.911837  0.935093  0.939825  0.922913  0.944673  \n",
            "1  0.581026  0.674771  0.564316  0.343826  0.299386  0.343306  \n",
            "2  0.920997  0.938195  0.928573  0.947349  0.916097  0.947397  \n",
            "3  0.804824       NaN       NaN  0.260329  0.687359  0.457371  \n",
            "4  0.854601  0.821471  0.833821  0.865693  0.849754  0.901032  \n",
            "\n",
            "[5 rows x 155 columns]\n"
          ]
        }
      ]
    },
    {
      "cell_type": "code",
      "source": [
        "#Check for empty cells\n",
        "if data.isnull().values.any():\n",
        "    print(\"There are missing values in the dataset.\")\n",
        "else:\n",
        "    print(\"No missing values detected.\")"
      ],
      "metadata": {
        "colab": {
          "base_uri": "https://localhost:8080/"
        },
        "id": "66MUwapmxoWP",
        "outputId": "e52b992b-074a-46fc-916a-58d815410016"
      },
      "execution_count": 4,
      "outputs": [
        {
          "output_type": "stream",
          "name": "stdout",
          "text": [
            "There are missing values in the dataset.\n"
          ]
        }
      ]
    },
    {
      "cell_type": "code",
      "source": [
        "from sklearn.impute import KNNImputer\n",
        "\n",
        "imputer = KNNImputer(n_neighbors=5)\n",
        "data_imputed = pd.DataFrame(imputer.fit_transform(data), columns=data.columns)\n"
      ],
      "metadata": {
        "id": "pdaTnznIyYVU"
      },
      "execution_count": 5,
      "outputs": []
    },
    {
      "cell_type": "code",
      "source": [
        "# Assuming first row is labels, separate them\n",
        "labels = data_imputed.iloc[0]\n",
        "features = data_imputed.iloc[1:]\n",
        "\n",
        "# Transpose for easier processing\n",
        "features = features.T\n",
        "features.columns = [f'CpG_{i+1}' for i in range(features.shape[1])]\n",
        "\n",
        "# Map labels to 0, 1, 2 for normal, tumor, recurrent tumor\n",
        "label_mapping = {'N': 0, 'T': 1, 'RT': 2}\n",
        "labels_mapped = labels.map(label_mapping)\n",
        "\n",
        "# Combine labels with features\n",
        "features['label'] = labels_mapped.values\n"
      ],
      "metadata": {
        "id": "GL7lirIXzd6u"
      },
      "execution_count": 6,
      "outputs": []
    },
    {
      "cell_type": "code",
      "source": [
        "from sklearn.model_selection import train_test_split\n",
        "\n",
        "X = features.drop('label', axis=1)\n",
        "y = features['label']\n",
        "\n",
        "X_train, X_test, y_train, y_test = train_test_split(X, y, test_size=0.2, random_state=42)\n"
      ],
      "metadata": {
        "id": "w-JQR_lJzpwZ"
      },
      "execution_count": 7,
      "outputs": []
    },
    {
      "cell_type": "code",
      "source": [
        "if y_train.isna().sum() > 0:\n",
        "    # Option 1: Remove rows with NaN values in y_train\n",
        "    y_train = y_train.dropna()\n",
        "    X_train = X_train.loc[y_train.index]"
      ],
      "metadata": {
        "id": "N9H53ZRn1nXL"
      },
      "execution_count": 8,
      "outputs": []
    },
    {
      "cell_type": "code",
      "source": [
        "print(\"X_train shape:\", X_train.shape)\n",
        "print(\"y_train shape:\", y_train.shape)\n"
      ],
      "metadata": {
        "colab": {
          "base_uri": "https://localhost:8080/"
        },
        "id": "mM-mlkUw2LjF",
        "outputId": "6b366406-8a17-48cf-c44b-a9cf541a6829"
      },
      "execution_count": 9,
      "outputs": [
        {
          "output_type": "stream",
          "name": "stdout",
          "text": [
            "X_train shape: (0, 49)\n",
            "y_train shape: (0,)\n"
          ]
        }
      ]
    },
    {
      "cell_type": "code",
      "source": [
        "print(\"Initial DataFrame shape:\", data_imputed.shape)\n",
        "data_imputed_cleaned = data_imputed.dropna()  # Example cleaning step\n",
        "print(\"Cleaned DataFrame shape:\", data_imputed_cleaned.shape)\n"
      ],
      "metadata": {
        "colab": {
          "base_uri": "https://localhost:8080/"
        },
        "id": "dd62aUQ02bPP",
        "outputId": "85372240-1870-4dc6-8666-cb69245d0c14"
      },
      "execution_count": 10,
      "outputs": [
        {
          "output_type": "stream",
          "name": "stdout",
          "text": [
            "Initial DataFrame shape: (50, 155)\n",
            "Cleaned DataFrame shape: (50, 155)\n"
          ]
        }
      ]
    },
    {
      "cell_type": "code",
      "source": [
        "print(data_imputed_cleaned.columns)\n"
      ],
      "metadata": {
        "colab": {
          "base_uri": "https://localhost:8080/"
        },
        "id": "G_LrjcNKJ6nN",
        "outputId": "81c2a075-2d2e-4c75-d1a7-a0f4377bf03e"
      },
      "execution_count": 12,
      "outputs": [
        {
          "output_type": "stream",
          "name": "stdout",
          "text": [
            "Index(['RT', 'T', 'T.1', 'T.2', 'T.3', 'T.4', 'RT.1', 'T.5', 'T.6', 'T.7',\n",
            "       ...\n",
            "       'T.130', 'T.131', 'T.132', 'T.133', 'T.134', 'T.135', 'T.136', 'T.137',\n",
            "       'T.138', 'T.139'],\n",
            "      dtype='object', length=155)\n"
          ]
        }
      ]
    },
    {
      "cell_type": "code",
      "source": [
        "# Example: Assuming 'N', 'RT', 'T' are in the first row of your dataset\n",
        "data_imputed_cleaned['label'] = data_imputed_cleaned.iloc[0]  # or however your labels are defined\n"
      ],
      "metadata": {
        "id": "OCC2sg1NKHJe"
      },
      "execution_count": 14,
      "outputs": []
    },
    {
      "cell_type": "code",
      "source": [
        "# Example: Assuming 'N', 'RT', 'T' are in the first row of your dataset\n",
        "data_imputed_cleaned['label'] = data_imputed_cleaned.iloc[0]  # or however your labels are defined\n"
      ],
      "metadata": {
        "id": "kSwqDrxvKJGS"
      },
      "execution_count": 15,
      "outputs": []
    },
    {
      "cell_type": "code",
      "source": [
        "print(data_imputed_cleaned.head())\n"
      ],
      "metadata": {
        "colab": {
          "base_uri": "https://localhost:8080/"
        },
        "id": "pxqsPAPDKLwz",
        "outputId": "dc805e98-5d70-4ff8-a00c-699aa86e369e"
      },
      "execution_count": 16,
      "outputs": [
        {
          "output_type": "stream",
          "name": "stdout",
          "text": [
            "         RT         T       T.1       T.2       T.3       T.4      RT.1  \\\n",
            "0  0.929843  0.928156  0.921526  0.931479  0.889860  0.939439  0.948523   \n",
            "1  0.464770  0.559134  0.460484  0.522254  0.815574  0.100259  0.523194   \n",
            "2  0.922723  0.948616  0.943878  0.947867  0.899935  0.931495  0.941284   \n",
            "3  0.509907  0.662649  0.505616  0.486228  0.592723  0.527048  0.829613   \n",
            "4  0.817826  0.832559  0.796367  0.882133  0.829623  0.918665  0.816905   \n",
            "\n",
            "        T.5       T.6       T.7  ...     T.131     T.132     T.133     T.134  \\\n",
            "0  0.937603  0.917144  0.922838  ...  0.955063  0.945038  0.954831  0.901573   \n",
            "1  0.760180  0.403001  0.606318  ...  0.488535  0.603420  0.603572  0.581026   \n",
            "2  0.924937  0.934264  0.912804  ...  0.941274  0.910866  0.942283  0.920997   \n",
            "3  0.782793  0.449169  0.753292  ...  0.480606  0.696004  0.689964  0.804824   \n",
            "4  0.913478  0.881346  0.854353  ...  0.873461  0.873157  0.812158  0.854601   \n",
            "\n",
            "      T.135     T.136     T.137     T.138     T.139  label  \n",
            "0  0.911837  0.935093  0.939825  0.922913  0.944673    NaN  \n",
            "1  0.674771  0.564316  0.343826  0.299386  0.343306    NaN  \n",
            "2  0.938195  0.928573  0.947349  0.916097  0.947397    NaN  \n",
            "3  0.712163  0.459410  0.260329  0.687359  0.457371    NaN  \n",
            "4  0.821471  0.833821  0.865693  0.849754  0.901032    NaN  \n",
            "\n",
            "[5 rows x 156 columns]\n"
          ]
        }
      ]
    },
    {
      "cell_type": "code",
      "source": [
        "X = data_imputed_cleaned.drop('label', axis=1)  # Replace 'label' with the correct column name\n",
        "y = data_imputed_cleaned['label']\n",
        "\n",
        "X_train, X_test, y_train, y_test = train_test_split(X, y, test_size=0.2, random_state=42)\n"
      ],
      "metadata": {
        "id": "dVYdlL7aKTB-"
      },
      "execution_count": 17,
      "outputs": []
    },
    {
      "cell_type": "code",
      "source": [
        "# Check for NaN values in y_test\n",
        "print(y_test.isnull().sum())\n",
        "\n",
        "# Remove rows with NaN values in y_test and corresponding rows in X_test\n",
        "idx = y_test[~y_test.isnull()].index\n",
        "y_test = y_test.loc[idx]\n",
        "X_test = X_test.loc[idx]\n",
        "\n",
        "# Fit the model on the cleaned data\n",
        "model.fit(X_test, y_test)"
      ],
      "metadata": {
        "colab": {
          "base_uri": "https://localhost:8080/",
          "height": 356
        },
        "id": "Lx0Cl4wWLAFr",
        "outputId": "a858c47a-de77-4883-fa86-962aa296e190"
      },
      "execution_count": 21,
      "outputs": [
        {
          "output_type": "stream",
          "name": "stdout",
          "text": [
            "10\n"
          ]
        },
        {
          "output_type": "error",
          "ename": "ValueError",
          "evalue": "Found array with 0 sample(s) (shape=(0, 155)) while a minimum of 1 is required by LogisticRegression.",
          "traceback": [
            "\u001b[0;31m---------------------------------------------------------------------------\u001b[0m",
            "\u001b[0;31mValueError\u001b[0m                                Traceback (most recent call last)",
            "\u001b[0;32m<ipython-input-21-8ae6fa8a8f87>\u001b[0m in \u001b[0;36m<cell line: 10>\u001b[0;34m()\u001b[0m\n\u001b[1;32m      8\u001b[0m \u001b[0;34m\u001b[0m\u001b[0m\n\u001b[1;32m      9\u001b[0m \u001b[0;31m# Fit the model on the cleaned data\u001b[0m\u001b[0;34m\u001b[0m\u001b[0;34m\u001b[0m\u001b[0m\n\u001b[0;32m---> 10\u001b[0;31m \u001b[0mmodel\u001b[0m\u001b[0;34m.\u001b[0m\u001b[0mfit\u001b[0m\u001b[0;34m(\u001b[0m\u001b[0mX_test\u001b[0m\u001b[0;34m,\u001b[0m \u001b[0my_test\u001b[0m\u001b[0;34m)\u001b[0m\u001b[0;34m\u001b[0m\u001b[0;34m\u001b[0m\u001b[0m\n\u001b[0m",
            "\u001b[0;32m/usr/local/lib/python3.10/dist-packages/sklearn/base.py\u001b[0m in \u001b[0;36mwrapper\u001b[0;34m(estimator, *args, **kwargs)\u001b[0m\n\u001b[1;32m   1150\u001b[0m                 )\n\u001b[1;32m   1151\u001b[0m             ):\n\u001b[0;32m-> 1152\u001b[0;31m                 \u001b[0;32mreturn\u001b[0m \u001b[0mfit_method\u001b[0m\u001b[0;34m(\u001b[0m\u001b[0mestimator\u001b[0m\u001b[0;34m,\u001b[0m \u001b[0;34m*\u001b[0m\u001b[0margs\u001b[0m\u001b[0;34m,\u001b[0m \u001b[0;34m**\u001b[0m\u001b[0mkwargs\u001b[0m\u001b[0;34m)\u001b[0m\u001b[0;34m\u001b[0m\u001b[0;34m\u001b[0m\u001b[0m\n\u001b[0m\u001b[1;32m   1153\u001b[0m \u001b[0;34m\u001b[0m\u001b[0m\n\u001b[1;32m   1154\u001b[0m         \u001b[0;32mreturn\u001b[0m \u001b[0mwrapper\u001b[0m\u001b[0;34m\u001b[0m\u001b[0;34m\u001b[0m\u001b[0m\n",
            "\u001b[0;32m/usr/local/lib/python3.10/dist-packages/sklearn/linear_model/_logistic.py\u001b[0m in \u001b[0;36mfit\u001b[0;34m(self, X, y, sample_weight)\u001b[0m\n\u001b[1;32m   1206\u001b[0m             \u001b[0m_dtype\u001b[0m \u001b[0;34m=\u001b[0m \u001b[0;34m[\u001b[0m\u001b[0mnp\u001b[0m\u001b[0;34m.\u001b[0m\u001b[0mfloat64\u001b[0m\u001b[0;34m,\u001b[0m \u001b[0mnp\u001b[0m\u001b[0;34m.\u001b[0m\u001b[0mfloat32\u001b[0m\u001b[0;34m]\u001b[0m\u001b[0;34m\u001b[0m\u001b[0;34m\u001b[0m\u001b[0m\n\u001b[1;32m   1207\u001b[0m \u001b[0;34m\u001b[0m\u001b[0m\n\u001b[0;32m-> 1208\u001b[0;31m         X, y = self._validate_data(\n\u001b[0m\u001b[1;32m   1209\u001b[0m             \u001b[0mX\u001b[0m\u001b[0;34m,\u001b[0m\u001b[0;34m\u001b[0m\u001b[0;34m\u001b[0m\u001b[0m\n\u001b[1;32m   1210\u001b[0m             \u001b[0my\u001b[0m\u001b[0;34m,\u001b[0m\u001b[0;34m\u001b[0m\u001b[0;34m\u001b[0m\u001b[0m\n",
            "\u001b[0;32m/usr/local/lib/python3.10/dist-packages/sklearn/base.py\u001b[0m in \u001b[0;36m_validate_data\u001b[0;34m(self, X, y, reset, validate_separately, cast_to_ndarray, **check_params)\u001b[0m\n\u001b[1;32m    620\u001b[0m                 \u001b[0my\u001b[0m \u001b[0;34m=\u001b[0m \u001b[0mcheck_array\u001b[0m\u001b[0;34m(\u001b[0m\u001b[0my\u001b[0m\u001b[0;34m,\u001b[0m \u001b[0minput_name\u001b[0m\u001b[0;34m=\u001b[0m\u001b[0;34m\"y\"\u001b[0m\u001b[0;34m,\u001b[0m \u001b[0;34m**\u001b[0m\u001b[0mcheck_y_params\u001b[0m\u001b[0;34m)\u001b[0m\u001b[0;34m\u001b[0m\u001b[0;34m\u001b[0m\u001b[0m\n\u001b[1;32m    621\u001b[0m             \u001b[0;32melse\u001b[0m\u001b[0;34m:\u001b[0m\u001b[0;34m\u001b[0m\u001b[0;34m\u001b[0m\u001b[0m\n\u001b[0;32m--> 622\u001b[0;31m                 \u001b[0mX\u001b[0m\u001b[0;34m,\u001b[0m \u001b[0my\u001b[0m \u001b[0;34m=\u001b[0m \u001b[0mcheck_X_y\u001b[0m\u001b[0;34m(\u001b[0m\u001b[0mX\u001b[0m\u001b[0;34m,\u001b[0m \u001b[0my\u001b[0m\u001b[0;34m,\u001b[0m \u001b[0;34m**\u001b[0m\u001b[0mcheck_params\u001b[0m\u001b[0;34m)\u001b[0m\u001b[0;34m\u001b[0m\u001b[0;34m\u001b[0m\u001b[0m\n\u001b[0m\u001b[1;32m    623\u001b[0m             \u001b[0mout\u001b[0m \u001b[0;34m=\u001b[0m \u001b[0mX\u001b[0m\u001b[0;34m,\u001b[0m \u001b[0my\u001b[0m\u001b[0;34m\u001b[0m\u001b[0;34m\u001b[0m\u001b[0m\n\u001b[1;32m    624\u001b[0m \u001b[0;34m\u001b[0m\u001b[0m\n",
            "\u001b[0;32m/usr/local/lib/python3.10/dist-packages/sklearn/utils/validation.py\u001b[0m in \u001b[0;36mcheck_X_y\u001b[0;34m(X, y, accept_sparse, accept_large_sparse, dtype, order, copy, force_all_finite, ensure_2d, allow_nd, multi_output, ensure_min_samples, ensure_min_features, y_numeric, estimator)\u001b[0m\n\u001b[1;32m   1144\u001b[0m         )\n\u001b[1;32m   1145\u001b[0m \u001b[0;34m\u001b[0m\u001b[0m\n\u001b[0;32m-> 1146\u001b[0;31m     X = check_array(\n\u001b[0m\u001b[1;32m   1147\u001b[0m         \u001b[0mX\u001b[0m\u001b[0;34m,\u001b[0m\u001b[0;34m\u001b[0m\u001b[0;34m\u001b[0m\u001b[0m\n\u001b[1;32m   1148\u001b[0m         \u001b[0maccept_sparse\u001b[0m\u001b[0;34m=\u001b[0m\u001b[0maccept_sparse\u001b[0m\u001b[0;34m,\u001b[0m\u001b[0;34m\u001b[0m\u001b[0;34m\u001b[0m\u001b[0m\n",
            "\u001b[0;32m/usr/local/lib/python3.10/dist-packages/sklearn/utils/validation.py\u001b[0m in \u001b[0;36mcheck_array\u001b[0;34m(array, accept_sparse, accept_large_sparse, dtype, order, copy, force_all_finite, ensure_2d, allow_nd, ensure_min_samples, ensure_min_features, estimator, input_name)\u001b[0m\n\u001b[1;32m    965\u001b[0m         \u001b[0mn_samples\u001b[0m \u001b[0;34m=\u001b[0m \u001b[0m_num_samples\u001b[0m\u001b[0;34m(\u001b[0m\u001b[0marray\u001b[0m\u001b[0;34m)\u001b[0m\u001b[0;34m\u001b[0m\u001b[0;34m\u001b[0m\u001b[0m\n\u001b[1;32m    966\u001b[0m         \u001b[0;32mif\u001b[0m \u001b[0mn_samples\u001b[0m \u001b[0;34m<\u001b[0m \u001b[0mensure_min_samples\u001b[0m\u001b[0;34m:\u001b[0m\u001b[0;34m\u001b[0m\u001b[0;34m\u001b[0m\u001b[0m\n\u001b[0;32m--> 967\u001b[0;31m             raise ValueError(\n\u001b[0m\u001b[1;32m    968\u001b[0m                 \u001b[0;34m\"Found array with %d sample(s) (shape=%s) while a\"\u001b[0m\u001b[0;34m\u001b[0m\u001b[0;34m\u001b[0m\u001b[0m\n\u001b[1;32m    969\u001b[0m                 \u001b[0;34m\" minimum of %d is required%s.\"\u001b[0m\u001b[0;34m\u001b[0m\u001b[0;34m\u001b[0m\u001b[0m\n",
            "\u001b[0;31mValueError\u001b[0m: Found array with 0 sample(s) (shape=(0, 155)) while a minimum of 1 is required by LogisticRegression."
          ]
        }
      ]
    },
    {
      "cell_type": "code",
      "source": [
        "# Check for NaN values in y_test\n",
        "print(y_test.isnull().sum())\n",
        "\n",
        "# Only remove rows with NaN values if there are any\n",
        "if y_test.isnull().sum() > 0:\n",
        "    # Remove rows with NaN values in y_test and corresponding rows in X_test\n",
        "    idx = y_test[~y_test.isnull()].index\n",
        "    y_test = y_test.loc[idx]\n",
        "    X_test = X_test.loc[idx]\n",
        "\n",
        "# Fit the model\n",
        "# Check if X_test and y_test are not empty before fitting\n",
        "if len(X_test) > 0 and len(y_test) > 0:\n",
        "    model.fit(X_test, y_test)\n",
        "else:\n",
        "    print(\"Cannot fit the model. X_test or y_test is empty.\")"
      ],
      "metadata": {
        "colab": {
          "base_uri": "https://localhost:8080/"
        },
        "id": "JweOPXKPLNe7",
        "outputId": "3a538c9a-8d76-45ec-90ec-4ea29a1b3f6a"
      },
      "execution_count": 22,
      "outputs": [
        {
          "output_type": "stream",
          "name": "stdout",
          "text": [
            "0\n",
            "Cannot fit the model. X_test or y_test is empty.\n"
          ]
        }
      ]
    }
  ]
}