{
  "nbformat": 4,
  "nbformat_minor": 0,
  "metadata": {
    "colab": {
      "provenance": [],
      "authorship_tag": "ABX9TyNW2vwVRTZl72dCM+TAiJ2Z",
      "include_colab_link": true
    },
    "kernelspec": {
      "name": "python3",
      "display_name": "Python 3"
    },
    "language_info": {
      "name": "python"
    }
  },
  "cells": [
    {
      "cell_type": "markdown",
      "metadata": {
        "id": "view-in-github",
        "colab_type": "text"
      },
      "source": [
        "<a href=\"https://colab.research.google.com/github/Shristy0412/Analysis-of-Epigenetic-Modifications/blob/main/Cancer_epigenetics.ipynb\" target=\"_parent\"><img src=\"https://colab.research.google.com/assets/colab-badge.svg\" alt=\"Open In Colab\"/></a>"
      ]
    },
    {
      "cell_type": "code",
      "source": [
        "#Load required libraries\n",
        "import pandas as pd\n",
        "import numpy as np\n",
        "from sklearn.preprocessing import StandardScaler\n",
        "from sklearn.model_selection import train_test_split"
      ],
      "metadata": {
        "id": "2avp9RYNsd2R"
      },
      "execution_count": null,
      "outputs": []
    },
    {
      "cell_type": "code",
      "source": [
        "data = pd.read_excel('/content/GBM_METHYLATION_SLC8A1_new.xlsx')"
      ],
      "metadata": {
        "id": "6NY5f5VuPuY-"
      },
      "execution_count": null,
      "outputs": []
    },
    {
      "cell_type": "code",
      "source": [
        "print(data.head())"
      ],
      "metadata": {
        "id": "_FSvRQOvgOLS"
      },
      "execution_count": null,
      "outputs": []
    },
    {
      "cell_type": "code",
      "source": [
        "# Check for missing values\n",
        "if df.isnull().values.any():\n",
        "    print(\"There are missing values in the dataset.\")\n",
        "else:\n",
        "    print(\"No missing values detected.\")"
      ],
      "metadata": {
        "id": "_o_epFWAr2K-"
      },
      "execution_count": null,
      "outputs": []
    },
    {
      "cell_type": "code",
      "source": [
        "#If missing values are present\n",
        "from sklearn.impute import KNNImputer\n",
        "\n",
        "imputer = KNNImputer(n_neighbors=5)\n",
        "data_imputed = pd.DataFrame(imputer.fit_transform(data), columns=df.columns)\n"
      ],
      "metadata": {
        "id": "ZtQBZgoMr6ra"
      },
      "execution_count": null,
      "outputs": []
    },
    {
      "cell_type": "code",
      "source": [
        "# Assuming first row is labels, separate them\n",
        "labels = data.iloc[0]\n",
        "features = data.iloc[1:]\n",
        "\n",
        "# Transpose for easier processing\n",
        "features = features.T\n",
        "features.columns = [f'CpG_{i+1}' for i in range(features.shape[1])]\n",
        "\n",
        "# Map labels to 0, 1, 2 for normal, tumor, recurrent tumor\n",
        "label_mapping = {'N': 0, 'T': 1, 'RT': 2}\n",
        "labels_mapped = labels.map(label_mapping)\n",
        "\n",
        "# Combine labels with features\n",
        "features['label'] = labels_mapped.values\n"
      ],
      "metadata": {
        "id": "-PuRO3UoskBu"
      },
      "execution_count": null,
      "outputs": []
    },
    {
      "cell_type": "code",
      "source": [
        "from sklearn.model_selection import train_test_split\n",
        "\n",
        "X = features.drop('label', axis=1)\n",
        "y = features['label']\n",
        "\n",
        "X_train, X_test, y_train, y_test = train_test_split(X, y, test_size=0.2, random_state=42)\n"
      ],
      "metadata": {
        "id": "ZDZAD6i-vit9"
      },
      "execution_count": null,
      "outputs": []
    },
    {
      "cell_type": "code",
      "source": [
        "# For showing NaN value\n",
        "print(y_train.isna().sum())\n"
      ],
      "metadata": {
        "id": "nZ2h9k3Hswfw"
      },
      "execution_count": null,
      "outputs": []
    },
    {
      "cell_type": "code",
      "source": [
        "y_train = y_train.dropna()\n",
        "X_train = X_train[y_train.index]  # Ensure X_train is consistent with y_train\n"
      ],
      "metadata": {
        "id": "mE7dYnnmvTdq"
      },
      "execution_count": null,
      "outputs": []
    },
    {
      "cell_type": "code",
      "source": [
        "y_train.fillna(y_train.mode()[0], inplace=True)\n"
      ],
      "metadata": {
        "id": "kweFVOodvYg1"
      },
      "execution_count": null,
      "outputs": []
    },
    {
      "cell_type": "code",
      "source": [
        "# Handling class imbalance if any\n",
        "from imblearn.over_sampling import SMOTE\n",
        "\n",
        "smote = SMOTE(random_state=42)\n",
        "X_resampled, y_resampled = smote.fit_resample(X_train, y_train)\n"
      ],
      "metadata": {
        "id": "kSQZsEhtwnoP"
      },
      "execution_count": null,
      "outputs": []
    },
    {
      "cell_type": "code",
      "source": [
        "from sklearn.linear_model import LogisticRegression\n",
        "\n",
        "model = LogisticRegression()\n",
        "model.fit(X_resampled, y_resampled)\n"
      ],
      "metadata": {
        "id": "SGRS61AOwt6I"
      },
      "execution_count": null,
      "outputs": []
    },
    {
      "cell_type": "code",
      "source": [
        "y_pred = model.predict(X_test)\n",
        "\n",
        "from sklearn.metrics import classification_report\n",
        "print(classification_report(y_test, y_pred))\n"
      ],
      "metadata": {
        "id": "LOVQTEK4wxfd"
      },
      "execution_count": null,
      "outputs": []
    }
  ]
}